{
  "nbformat": 4,
  "nbformat_minor": 0,
  "metadata": {
    "colab": {
      "name": "Aula02_R.ipynb",
      "provenance": [],
      "collapsed_sections": []
    },
    "kernelspec": {
      "name": "ir",
      "display_name": "R"
    },
    "language_info": {
      "name": "R"
    }
  },
  "cells": [
    {
      "cell_type": "markdown",
      "metadata": {
        "id": "DnNxQfYItH9k"
      },
      "source": [
        "#Exercícios\n",
        "\n",
        "1. Execute os comandos a seguir: <br>\n",
        "a. Crie o seguinte vetor de caracteres\n"
      ]
    },
    {
      "cell_type": "code",
      "metadata": {
        "colab": {
          "base_uri": "https://localhost:8080/"
        },
        "id": "NTwYHpQRtVT5",
        "outputId": "bd315e08-d879-46ee-894f-8c86fb6e9053"
      },
      "source": [
        "vet1 = c(\"morder\",\"correndo\",\"dançar\",\"comendo\",\"dançando\",\"amassar\",\"dançam\",\"corro\",\"danço\")\n",
        "print(vet1)"
      ],
      "execution_count": 11,
      "outputs": [
        {
          "output_type": "stream",
          "text": [
            "[1] \"morder\"   \"correndo\" \"dançar\"   \"comendo\"  \"dançando\" \"amassar\"  \"dançam\"  \n",
            "[8] \"corro\"    \"danço\"   \n"
          ],
          "name": "stdout"
        }
      ]
    },
    {
      "cell_type": "markdown",
      "metadata": {
        "id": "-jcEOKsztoSo"
      },
      "source": [
        "b. Suponha que você queira saber qual é a proporção de palavras derivadas do verbo \"dançar\" existem no vetor. Como você faria isso?"
      ]
    },
    {
      "cell_type": "code",
      "metadata": {
        "colab": {
          "base_uri": "https://localhost:8080/",
          "height": 51
        },
        "id": "M4fMM9wNt12b",
        "outputId": "6f8ef6cb-7755-4933-f396-b084b36ba0ee"
      },
      "source": [
        "vetor1 = grep(\"danç\",vet1, value = TRUE)\n",
        "print(vetor1)\n",
        "length(vetor1) / length(vet1)"
      ],
      "execution_count": 69,
      "outputs": [
        {
          "output_type": "stream",
          "text": [
            "[1] \"dançar\"   \"dançando\" \"dançam\"   \"danço\"   \n"
          ],
          "name": "stdout"
        },
        {
          "output_type": "display_data",
          "data": {
            "text/plain": [
              "[1] 0.4444444"
            ],
            "text/latex": "0.444444444444444",
            "text/markdown": "0.444444444444444",
            "text/html": [
              "0.444444444444444"
            ]
          },
          "metadata": {
            "tags": []
          }
        }
      ]
    },
    {
      "cell_type": "markdown",
      "metadata": {
        "id": "mDjhrp3buCBT"
      },
      "source": [
        "c. Faça o mesmo do item anterior, mas agora você quer saber a proporção de palavras derivadas do verbo \"correr\"."
      ]
    },
    {
      "cell_type": "code",
      "metadata": {
        "colab": {
          "base_uri": "https://localhost:8080/",
          "height": 51
        },
        "id": "Z3IV_rEluKeQ",
        "outputId": "762a77bf-33e3-41af-cadb-602c9371eaef"
      },
      "source": [
        "vetor2 = grep(\"corr\",vet1, value = TRUE)\n",
        "print(vetor2)\n",
        "length(vetor2) / length(vet1)"
      ],
      "execution_count": 70,
      "outputs": [
        {
          "output_type": "stream",
          "text": [
            "[1] \"correndo\" \"corro\"   \n"
          ],
          "name": "stdout"
        },
        {
          "output_type": "display_data",
          "data": {
            "text/plain": [
              "[1] 0.2222222"
            ],
            "text/latex": "0.222222222222222",
            "text/markdown": "0.222222222222222",
            "text/html": [
              "0.222222222222222"
            ]
          },
          "metadata": {
            "tags": []
          }
        }
      ]
    },
    {
      "cell_type": "markdown",
      "metadata": {
        "id": "hmMKrm5HuKsl"
      },
      "source": [
        "2. Crie o seguinte vetor e execute os comandos a seguir:\n"
      ]
    },
    {
      "cell_type": "code",
      "metadata": {
        "colab": {
          "base_uri": "https://localhost:8080/"
        },
        "id": "lD9JPlqJuQ_c",
        "outputId": "9ccabc3c-80d5-44ac-a635-d543a4307537"
      },
      "source": [
        "vet2 = c(\"torre\",\"garrafão\",\"careta\",\"carro\",\"moer\",\"correnteza\",\"core\",\"churrasqueira\",\"escorrega\",\"chore\",\"escore\",\"cabo\")\n",
        "print(vet2)"
      ],
      "execution_count": 77,
      "outputs": [
        {
          "output_type": "stream",
          "text": [
            " [1] \"torre\"         \"garrafão\"      \"careta\"        \"carro\"        \n",
            " [5] \"moer\"          \"correnteza\"    \"core\"          \"churrasqueira\"\n",
            " [9] \"escorrega\"     \"chore\"         \"escore\"        \"cabo\"         \n"
          ],
          "name": "stdout"
        }
      ]
    },
    {
      "cell_type": "markdown",
      "metadata": {
        "id": "wZ5KhrAcusCA"
      },
      "source": [
        "a. Armazene em um novo vetor as palavras que possuem a letra 'o', seguida de no mínimo 1 'r', seguida da letra 'e'"
      ]
    },
    {
      "cell_type": "code",
      "metadata": {
        "colab": {
          "base_uri": "https://localhost:8080/"
        },
        "id": "5ZE1N9rDu0nH",
        "outputId": "fac4b42b-e797-4fd8-b249-47adfebf5d3d"
      },
      "source": [
        "novovetor = grep(\"or+e\",vet2,value = TRUE) # + é quantificador que significa 'pelo menos 1 vez'\n",
        "print(novovetor)"
      ],
      "execution_count": 72,
      "outputs": [
        {
          "output_type": "stream",
          "text": [
            "[1] \"torre\"      \"correnteza\" \"core\"       \"escorrega\"  \"chore\"     \n",
            "[6] \"escore\"    \n"
          ],
          "name": "stdout"
        }
      ]
    },
    {
      "cell_type": "markdown",
      "metadata": {
        "id": "rClVhy3uu0_D"
      },
      "source": [
        "b. Armazene em um novo vetor as palavras que possuem 'rr' e terminam em 'o'"
      ]
    },
    {
      "cell_type": "code",
      "metadata": {
        "colab": {
          "base_uri": "https://localhost:8080/"
        },
        "id": "or-RBDW5u6uk",
        "outputId": "b7c40173-f431-43ac-e469-09dd710a246b"
      },
      "source": [
        "novovetor2 = grep(\"rr|o$\",vet2,value = TRUE) # | é um caractere para classes ou grupos que significa \"ou\"\n",
        "novovetor3 = grep(\"o$\", novovetor2, value = TRUE) # $ é uma âncora para indicar como a string termina. neste caso, com 'o'\n",
        "novovetor4 = grep(\"rr\", novovetor3, value = TRUE)\n",
        "print(novovetor4)"
      ],
      "execution_count": 75,
      "outputs": [
        {
          "output_type": "stream",
          "text": [
            "[1] \"garrafão\" \"carro\"   \n"
          ],
          "name": "stdout"
        }
      ]
    },
    {
      "cell_type": "markdown",
      "metadata": {
        "id": "uVS0hURIu67L"
      },
      "source": [
        "c. Armazene em um novo vetor as palavras que contém até uma letra 'r' (sem ser 'rr') e terminam em 'a'"
      ]
    },
    {
      "cell_type": "code",
      "metadata": {
        "colab": {
          "base_uri": "https://localhost:8080/"
        },
        "id": "dJMKy1L7vD-3",
        "outputId": "7a9b2de9-a999-4d94-a348-29e16aa5f8fa"
      },
      "source": [
        "novovetor5 = grep(\"rr\",vet2)  \n",
        "novovetor6 = vet2[-novovetor5]\n",
        "novovetor7 = grep(\"r\", novovetor6, value = TRUE)\n",
        "novovetor7 = grep(\"a$\", novovetor7, value = TRUE)\n",
        "print(novovetor7)"
      ],
      "execution_count": 87,
      "outputs": [
        {
          "output_type": "stream",
          "text": [
            "[1] \"careta\"\n"
          ],
          "name": "stdout"
        }
      ]
    },
    {
      "cell_type": "markdown",
      "metadata": {
        "id": "oD0yU_AWvEUP"
      },
      "source": [
        "3. Crie o seguinte vetor e execute os comandos a seguir:\n"
      ]
    },
    {
      "cell_type": "code",
      "metadata": {
        "colab": {
          "base_uri": "https://localhost:8080/"
        },
        "id": "rQwgftgMvKEN",
        "outputId": "6ec0b16d-47c3-4c17-c6af-74d64eabf566"
      },
      "source": [
        "vet3 = c(\"3vezes\",\"3_vezes\",\"3 vezes\",\"três vezes\",\"três_vezes\",\"tres vezes\",\"tres_vezes\",\"vezes3\",\"vezes_3\",\"vezes 3\",3)\n",
        "print(vet3)"
      ],
      "execution_count": 12,
      "outputs": [
        {
          "output_type": "stream",
          "text": [
            " [1] \"3vezes\"     \"3_vezes\"    \"3 vezes\"    \"três vezes\" \"três_vezes\"\n",
            " [6] \"tres vezes\" \"tres_vezes\" \"vezes3\"     \"vezes_3\"    \"vezes 3\"   \n",
            "[11] \"3\"         \n"
          ],
          "name": "stdout"
        }
      ]
    },
    {
      "cell_type": "markdown",
      "metadata": {
        "id": "E3TckGETvh0I"
      },
      "source": [
        "a. Armazene em um novo vetor os itens que possuem número"
      ]
    },
    {
      "cell_type": "code",
      "metadata": {
        "colab": {
          "base_uri": "https://localhost:8080/"
        },
        "id": "FvabqC4nvmiq",
        "outputId": "150c4306-3200-44ab-f9fa-52aabcfa480d"
      },
      "source": [
        "novovetor8 = grep(\"\\\\d\",vet3, value = TRUE) # \\\\d == possuem número\n",
        "print(novovetor8)"
      ],
      "execution_count": 88,
      "outputs": [
        {
          "output_type": "stream",
          "text": [
            "[1] \"3vezes\"  \"3_vezes\" \"3 vezes\" \"vezes3\"  \"vezes_3\" \"vezes 3\" \"3\"      \n"
          ],
          "name": "stdout"
        }
      ]
    },
    {
      "cell_type": "markdown",
      "metadata": {
        "id": "hmtIRFn0vmwo"
      },
      "source": [
        "b. Armazene em um novo vetor os itens que possuem número e espaço"
      ]
    },
    {
      "cell_type": "code",
      "metadata": {
        "colab": {
          "base_uri": "https://localhost:8080/"
        },
        "id": "IkgxmteHvrIC",
        "outputId": "45fd47ad-9229-4060-f8cd-cdb84567f4e1"
      },
      "source": [
        "novovetor9 = grep(\"\\\\s\", novovetor8, value = TRUE) # \\\\s == possuem espaço\n",
        "print(novovetor9)"
      ],
      "execution_count": 90,
      "outputs": [
        {
          "output_type": "stream",
          "text": [
            "[1] \"3 vezes\" \"vezes 3\"\n"
          ],
          "name": "stdout"
        }
      ]
    },
    {
      "cell_type": "markdown",
      "metadata": {
        "id": "2_cLok3AvrSc"
      },
      "source": [
        "c. Armazene em um novo vetor os itens que possuem número no final e possuem algum sinal de pontuação"
      ]
    },
    {
      "cell_type": "code",
      "metadata": {
        "colab": {
          "base_uri": "https://localhost:8080/"
        },
        "id": "eTgr07GWvz5d",
        "outputId": "b2dd7a52-e53d-49a2-c739-56cf6a5e6852"
      },
      "source": [
        "novovetor10 = grep(\"\\\\d$\", vet3, value = TRUE)\n",
        "novovetor10 = grep(\"[[:punct:]]\", novovetor10, value = TRUE) # [[:punct:]] == possuem algum sinal de pontuação\n",
        "print(novovetor10)"
      ],
      "execution_count": 91,
      "outputs": [
        {
          "output_type": "stream",
          "text": [
            "[1] \"vezes_3\"\n"
          ],
          "name": "stdout"
        }
      ]
    },
    {
      "cell_type": "markdown",
      "metadata": {
        "id": "UhdnMcjbv0IN"
      },
      "source": [
        "d. Armazene em um novo vetor os itens que não possuem dígito nem espaço"
      ]
    },
    {
      "cell_type": "code",
      "metadata": {
        "colab": {
          "base_uri": "https://localhost:8080/"
        },
        "id": "35UkM214v5q1",
        "outputId": "935b75aa-2dac-46d0-958d-a8f1cad0dc68"
      },
      "source": [
        "novovetor11 = grep(\"\\\\d|\\\\s\", vet3)\n",
        "novovetor12 = vet3[-novovetor11]\n",
        "print(novovetor12)"
      ],
      "execution_count": 94,
      "outputs": [
        {
          "output_type": "stream",
          "text": [
            "[1] \"três_vezes\" \"tres_vezes\"\n"
          ],
          "name": "stdout"
        }
      ]
    }
  ]
}