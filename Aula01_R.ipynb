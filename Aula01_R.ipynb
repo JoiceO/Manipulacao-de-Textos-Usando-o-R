{
  "nbformat": 4,
  "nbformat_minor": 0,
  "metadata": {
    "colab": {
      "name": "Aula01.R",
      "provenance": [],
      "collapsed_sections": [],
      "toc_visible": true
    },
    "kernelspec": {
      "name": "ir",
      "display_name": "R"
    },
    "language_info": {
      "name": "R"
    }
  },
  "cells": [
    {
      "cell_type": "markdown",
      "metadata": {
        "id": "eKaG2g4sfY-n"
      },
      "source": [
        "#Exercícios"
      ]
    },
    {
      "cell_type": "markdown",
      "metadata": {
        "id": "lG1FXmz5fhTq"
      },
      "source": [
        "1. Crie as variáveis a seguir e realize as operações em seguida <br>\n",
        "\n",
        "> a. var_1 com valor 100 <br>\n",
        "> b. \"var_2\" com valor 2 <br>\n",
        "> c. \"var_3\" com valor 1500 <br>\n",
        "> d. \"var_4\" com valor 1000 <br>\n",
        "> e. \"var_5\" com valor \"10\" <br>\n",
        "> f. utilize a função class() para ver as classes das variáveis \"var_1\" e \"var_5\"\n",
        "\n",
        "\n",
        "\n"
      ]
    },
    {
      "cell_type": "code",
      "metadata": {
        "colab": {
          "base_uri": "https://localhost:8080/",
          "height": 51
        },
        "id": "n_hD9AYUfx13",
        "outputId": "1e39b5b5-de0e-491b-9535-bf5daf755e7f"
      },
      "source": [
        "#a\n",
        "var_1 = 100\n",
        "\n",
        "#b\n",
        "var_2 = 2\n",
        "\n",
        "#c\n",
        "var_3 = 1500\n",
        "\n",
        "#d\n",
        "var_4 = 1000\n",
        "\n",
        "#e\n",
        "var_5 = \"10\"\n",
        "\n",
        "#f\n",
        "class(var_1)\n",
        "class(var_5)"
      ],
      "execution_count": null,
      "outputs": [
        {
          "output_type": "display_data",
          "data": {
            "text/plain": [
              "[1] \"numeric\""
            ],
            "text/latex": "'numeric'",
            "text/markdown": "'numeric'",
            "text/html": [
              "'numeric'"
            ]
          },
          "metadata": {
            "tags": []
          }
        },
        {
          "output_type": "display_data",
          "data": {
            "text/plain": [
              "[1] \"character\""
            ],
            "text/latex": "'character'",
            "text/markdown": "'character'",
            "text/html": [
              "'character'"
            ]
          },
          "metadata": {
            "tags": []
          }
        }
      ]
    },
    {
      "cell_type": "markdown",
      "metadata": {
        "id": "AXbCBY4IgsvE"
      },
      "source": [
        "2. A partir das variáveis criadas acima: <br>\n",
        "> a. multiplique duas e obtenha o número 2000 <br>\n",
        "> b. divida duas e obtenha o número 50 <br>\n",
        "> c. some duas e obtenha o número 1600 <br>\n",
        "> d. subtraia duas variáveis e obtenha o número -1400 <br>\n",
        "> e. faça uma operação entre duas variáveis e obtenha o valor atribuído à var_1\n"
      ]
    },
    {
      "cell_type": "code",
      "metadata": {
        "colab": {
          "base_uri": "https://localhost:8080/",
          "height": 102
        },
        "id": "8ZKXeE-vgzej",
        "outputId": "e76dc277-bacf-47c8-e22f-52b941471895"
      },
      "source": [
        "#a\n",
        "var_2 * var_4\n",
        "\n",
        "#b\n",
        "var_1 / var_2\n",
        "\n",
        "#c\n",
        "var_1 + var_3\n",
        "\n",
        "#d\n",
        "var_1 - var_3\n",
        "\n",
        "#e\n",
        "var_4 / as.numeric(var_5)"
      ],
      "execution_count": null,
      "outputs": [
        {
          "output_type": "display_data",
          "data": {
            "text/plain": [
              "[1] 2000"
            ],
            "text/latex": "2000",
            "text/markdown": "2000",
            "text/html": [
              "2000"
            ]
          },
          "metadata": {
            "tags": []
          }
        },
        {
          "output_type": "display_data",
          "data": {
            "text/plain": [
              "[1] 50"
            ],
            "text/latex": "50",
            "text/markdown": "50",
            "text/html": [
              "50"
            ]
          },
          "metadata": {
            "tags": []
          }
        },
        {
          "output_type": "display_data",
          "data": {
            "text/plain": [
              "[1] 1600"
            ],
            "text/latex": "1600",
            "text/markdown": "1600",
            "text/html": [
              "1600"
            ]
          },
          "metadata": {
            "tags": []
          }
        },
        {
          "output_type": "display_data",
          "data": {
            "text/plain": [
              "[1] -1400"
            ],
            "text/latex": "-1400",
            "text/markdown": "-1400",
            "text/html": [
              "-1400"
            ]
          },
          "metadata": {
            "tags": []
          }
        },
        {
          "output_type": "display_data",
          "data": {
            "text/plain": [
              "[1] 100"
            ],
            "text/latex": "100",
            "text/markdown": "100",
            "text/html": [
              "100"
            ]
          },
          "metadata": {
            "tags": []
          }
        }
      ]
    },
    {
      "cell_type": "markdown",
      "metadata": {
        "id": "IpmlbtJIhdHK"
      },
      "source": [
        "3. Crie as variáveis a seguir e realize as operações em seguida: <br>\n",
        "> a. crie uma variável chamada \"vet_1\" e atribua os valores 5,10,15,20,25 <br>\n",
        "> b. crie uma variável chamada \"vet_2\" e atribua os valores 1,10,100 <br>\n",
        "> c. crie uma variável chamada \"vet_3\" e atribua os valores 2,4,6,8,10 <br>\n",
        "> d. crie uma variável chamada \"vet_4\" e atribua os valores \"1\",\"2\",\"3\",\"4\",\"5\" <br>\n",
        "> e. utilize a função class() para ver a classe das variáveis vet_1 e vet_4\n"
      ]
    },
    {
      "cell_type": "code",
      "metadata": {
        "colab": {
          "base_uri": "https://localhost:8080/",
          "height": 51
        },
        "id": "fHiqkCxNhddx",
        "outputId": "171520f2-5c2f-4f2d-acba-e10ce276520a"
      },
      "source": [
        "#a\n",
        "vet_1 = c(5,10,15,20,25) #c é a função concatenar\n",
        "\n",
        "#b\n",
        "vet_2 = c(1,10,100)\n",
        "\n",
        "#c\n",
        "vet_3 = c(2,4,6,8,10)\n",
        "\n",
        "#d\n",
        "vet_4 = c(\"1\",\"2\",\"3\",\"4\",\"5\")\n",
        "\n",
        "#e\n",
        "class(vet_1)\n",
        "class(vet_4)"
      ],
      "execution_count": null,
      "outputs": [
        {
          "output_type": "display_data",
          "data": {
            "text/plain": [
              "[1] \"numeric\""
            ],
            "text/latex": "'numeric'",
            "text/markdown": "'numeric'",
            "text/html": [
              "'numeric'"
            ]
          },
          "metadata": {
            "tags": []
          }
        },
        {
          "output_type": "display_data",
          "data": {
            "text/plain": [
              "[1] \"character\""
            ],
            "text/latex": "'character'",
            "text/markdown": "'character'",
            "text/html": [
              "'character'"
            ]
          },
          "metadata": {
            "tags": []
          }
        }
      ]
    },
    {
      "cell_type": "markdown",
      "metadata": {
        "id": "8VIlWSlNiMbA"
      },
      "source": [
        "4. A partir dos vetores acima: <br>\n",
        "> a. realize uma única operação e obtenha os valores 1,2,3,4,5 <br>\n",
        "> b. obtenha os valores 1,100 e 10000 <br>\n",
        "> c.obtenha os valores 3,6,9,12,15 <br>\n",
        "> d. realize uma operação entre dois vetores e obtenha os valores 5,20,45,80 e 125"
      ]
    },
    {
      "cell_type": "code",
      "metadata": {
        "colab": {
          "base_uri": "https://localhost:8080/",
          "height": 85
        },
        "id": "hT_nl-0FiMwY",
        "outputId": "cbafe393-ddd0-42a0-de67-3aacfc629ecc"
      },
      "source": [
        "#a\n",
        "vet_3 / 2\n",
        "\n",
        "#b\n",
        "vet_2 ^ 2\n",
        "\n",
        "#c\n",
        "vet_1 - vet_3\n",
        "\n",
        "#d\n",
        "vet_1 * as.numeric(vet_4)"
      ],
      "execution_count": null,
      "outputs": [
        {
          "output_type": "display_data",
          "data": {
            "text/plain": [
              "[1] 1 2 3 4 5"
            ],
            "text/latex": "\\begin{enumerate*}\n\\item 1\n\\item 2\n\\item 3\n\\item 4\n\\item 5\n\\end{enumerate*}\n",
            "text/markdown": "1. 1\n2. 2\n3. 3\n4. 4\n5. 5\n\n\n",
            "text/html": [
              "<style>\n",
              ".list-inline {list-style: none; margin:0; padding: 0}\n",
              ".list-inline>li {display: inline-block}\n",
              ".list-inline>li:not(:last-child)::after {content: \"\\00b7\"; padding: 0 .5ex}\n",
              "</style>\n",
              "<ol class=list-inline><li>1</li><li>2</li><li>3</li><li>4</li><li>5</li></ol>\n"
            ]
          },
          "metadata": {
            "tags": []
          }
        },
        {
          "output_type": "display_data",
          "data": {
            "text/plain": [
              "[1]     1   100 10000"
            ],
            "text/latex": "\\begin{enumerate*}\n\\item 1\n\\item 100\n\\item 10000\n\\end{enumerate*}\n",
            "text/markdown": "1. 1\n2. 100\n3. 10000\n\n\n",
            "text/html": [
              "<style>\n",
              ".list-inline {list-style: none; margin:0; padding: 0}\n",
              ".list-inline>li {display: inline-block}\n",
              ".list-inline>li:not(:last-child)::after {content: \"\\00b7\"; padding: 0 .5ex}\n",
              "</style>\n",
              "<ol class=list-inline><li>1</li><li>100</li><li>10000</li></ol>\n"
            ]
          },
          "metadata": {
            "tags": []
          }
        },
        {
          "output_type": "display_data",
          "data": {
            "text/plain": [
              "[1]  3  6  9 12 15"
            ],
            "text/latex": "\\begin{enumerate*}\n\\item 3\n\\item 6\n\\item 9\n\\item 12\n\\item 15\n\\end{enumerate*}\n",
            "text/markdown": "1. 3\n2. 6\n3. 9\n4. 12\n5. 15\n\n\n",
            "text/html": [
              "<style>\n",
              ".list-inline {list-style: none; margin:0; padding: 0}\n",
              ".list-inline>li {display: inline-block}\n",
              ".list-inline>li:not(:last-child)::after {content: \"\\00b7\"; padding: 0 .5ex}\n",
              "</style>\n",
              "<ol class=list-inline><li>3</li><li>6</li><li>9</li><li>12</li><li>15</li></ol>\n"
            ]
          },
          "metadata": {
            "tags": []
          }
        },
        {
          "output_type": "display_data",
          "data": {
            "text/plain": [
              "[1]   5  20  45  80 125"
            ],
            "text/latex": "\\begin{enumerate*}\n\\item 5\n\\item 20\n\\item 45\n\\item 80\n\\item 125\n\\end{enumerate*}\n",
            "text/markdown": "1. 5\n2. 20\n3. 45\n4. 80\n5. 125\n\n\n",
            "text/html": [
              "<style>\n",
              ".list-inline {list-style: none; margin:0; padding: 0}\n",
              ".list-inline>li {display: inline-block}\n",
              ".list-inline>li:not(:last-child)::after {content: \"\\00b7\"; padding: 0 .5ex}\n",
              "</style>\n",
              "<ol class=list-inline><li>5</li><li>20</li><li>45</li><li>80</li><li>125</li></ol>\n"
            ]
          },
          "metadata": {
            "tags": []
          }
        }
      ]
    },
    {
      "cell_type": "markdown",
      "metadata": {
        "id": "PMAx-mKFilb_"
      },
      "source": [
        "5. Execute os seguintes comandos: <br>\n",
        ">a. crie o dataframe a seguir: <br>\n",
        "dataframe1 = data.frame(\"retorno_ativo_1\" = c(0.50, 0.03, -0.20, 1.30, -0.40), \"retorno_ativo_2\" = c(-0.30, 0.01, 0.40, -2.00, 0.90)) <br>\n",
        "<br>\n",
        ">b. esse valores representam uma certa porcentagem. A partir do dataframe criado, crie um novo dataframe com os valores expressos em % <br>\n",
        "<br>\n",
        ">c. a função cor() nos retorna a correlação entre dois conjuntos de dados. Utilizando-a com os argumentos x e y, qual é a correlação entre o retorno dos 2 ativos?"
      ]
    },
    {
      "cell_type": "code",
      "metadata": {
        "colab": {
          "base_uri": "https://localhost:8080/",
          "height": 204
        },
        "id": "V-lJR0G7ilq_",
        "outputId": "853cab33-78e9-4711-d711-3481eca5e2ff"
      },
      "source": [
        "#a\n",
        "dataframe1 = data.frame(\"retorno_ativo_1\" = c(0.50, 0.03, -0.20, 1.30, -0.40), \"retorno_ativo_2\" = c(-0.30, 0.01, 0.40, -2.00, 0.90))\n",
        "\n",
        "#b\n",
        "dataframe2 = data.frame(\"retorno_ativo_1\" = c(0.50, 0.03, -0.20, 1.30, -0.40) *100, \"retorno_ativo_2\" = c(-0.30, 0.01, 0.40, -2.00, 0.90) *100)\n",
        "\n",
        "#c\n",
        "cor.test(dataframe2$retorno_ativo_1, dataframe2$retorno_ativo_2)"
      ],
      "execution_count": null,
      "outputs": [
        {
          "output_type": "display_data",
          "data": {
            "text/plain": [
              "\n",
              "\tPearson's product-moment correlation\n",
              "\n",
              "data:  dataframe2$retorno_ativo_1 and dataframe2$retorno_ativo_2\n",
              "t = -9.9717, df = 3, p-value = 0.002146\n",
              "alternative hypothesis: true correlation is not equal to 0\n",
              "95 percent confidence interval:\n",
              " -0.9990708 -0.7876252\n",
              "sample estimates:\n",
              "       cor \n",
              "-0.9852477 \n"
            ]
          },
          "metadata": {
            "tags": []
          }
        }
      ]
    }
  ]
}